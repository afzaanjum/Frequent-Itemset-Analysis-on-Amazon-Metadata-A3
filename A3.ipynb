{
 "cells": [
  {
   "cell_type": "code",
   "execution_count": null,
   "metadata": {
    "id": "36TPfsNlIIkg"
   },
   "outputs": [],
   "source": [
    "import pandas as pd\n",
    "import json\n",
    "\n",
    "# Load data\n",
    "df = pd.read_json('Sampled_Amazon_Meta.json', lines=True)\n",
    "\n",
    "# Clean data\n",
    "df.dropna(subset=['asin', 'title', 'price'], inplace=True)  # Drop rows with essential missing values\n",
    "\n",
    "# Format data\n",
    "df['price'] = df['price'].str.replace('$', '').astype(float)  # Convert price to float\n",
    "\n",
    "# Filter data\n",
    "df = df[df['categories'].apply(lambda x: 'Books' in x)]  # Example: Keep only products categorized under 'Books'\n",
    "\n",
    "# Feature Engineering\n",
    "df['description_length'] = df['description'].apply(len)  # New feature: length of description\n",
    "\n",
    "# Save processed data\n",
    "df.to_json('Amazon_Meta.json', orient='records', lines=True)\n",
    "\n",
    "# Print completion\n",
    "print(\"Data preprocessing completed and saved to 'Amazon_Meta.json'.\")\n"
   ]
  },
  {
   "cell_type": "code",
   "execution_count": null,
   "metadata": {
    "id": "az_hRzHYILpF"
   },
   "outputs": [],
   "source": [
    "from kafka import KafkaProducer\n",
    "import json\n",
    "\n",
    "# Initialize a producer\n",
    "producer = KafkaProducer(bootstrap_servers=['localhost:9092'],\n",
    "                         value_serializer=lambda x: json.dumps(x).encode('utf-8'))\n",
    "\n",
    "# Load your preprocessed data\n",
    "with open('Amazon_Meta.json', 'r') as file:\n",
    "    for line in file:\n",
    "        message = json.loads(line)\n",
    "        producer.send('amazon_products', value=message)\n",
    "\n",
    "producer.flush()\n",
    "print(\"Data has been sent to Kafka topic 'amazon_products'\")\n"
   ]
  },
  {
   "cell_type": "code",
   "execution_count": null,
   "metadata": {
    "id": "VPdYQ93DIRGA"
   },
   "outputs": [],
   "source": [
    "from kafka import KafkaConsumer\n",
    "import json\n",
    "\n",
    "# Initialize a consumer\n",
    "consumer = KafkaConsumer(\n",
    "    'amazon_products',\n",
    "    bootstrap_servers=['localhost:9092'],\n",
    "    auto_offset_reset='earliest',\n",
    "    value_deserializer=lambda x: json.loads(x.decode('utf-8'))\n",
    ")\n",
    "\n",
    "# Consume data\n",
    "for message in consumer:\n",
    "    data = message.value\n",
    "    print(\"Received data: \", data)\n",
    "    # Implement your algorithm or analysis here\n"
   ]
  },
  {
   "cell_type": "code",
   "execution_count": null,
   "metadata": {
    "id": "0BO5K60MIVbx"
   },
   "outputs": [],
   "source": [
    "from kafka import KafkaConsumer\n",
    "from efficient_apriori import apriori\n",
    "import json\n",
    "\n",
    "# Initialize a consumer for Apriori\n",
    "consumer_apriori = KafkaConsumer(\n",
    "    'amazon_products',\n",
    "    bootstrap_servers=['localhost:9092'],\n",
    "    auto_offset_reset='earliest',\n",
    "    value_deserializer=lambda x: json.loads(x.decode('utf-8'))\n",
    ")\n",
    "\n",
    "transactions = []\n",
    "\n",
    "# Collect data for a batch\n",
    "for message in consumer_apriori:\n",
    "    data = message.value\n",
    "    transactions.append(data['categories'])  # Assuming categories are items of interest\n",
    "    if len(transactions) >= 100:  # Define a suitable batch size\n",
    "        break\n",
    "\n",
    "# Apply the Apriori algorithm\n",
    "itemsets, rules = apriori(transactions, min_support=0.5, min_confidence=1)\n",
    "print(\"Frequent Itemsets:\", itemsets)\n",
    "print(\"Association Rules:\", rules)\n",
    "\n",
    "consumer_apriori.close()\n"
   ]
  },
  {
   "cell_type": "code",
   "execution_count": null,
   "metadata": {
    "id": "oVClPO5tIZnZ"
   },
   "outputs": [],
   "source": [
    "from kafka import KafkaConsumer\n",
    "import json\n",
    "\n",
    "# Initialize a consumer for PCY\n",
    "consumer_pcy = KafkaConsumer(\n",
    "    'amazon_products',\n",
    "    bootstrap_servers=['localhost:9092'],\n",
    "    auto_offset_reset='earliest',\n",
    "    value_deserializer=lambda x: json.loads(x.decode('utf-8'))\n",
    ")\n",
    "\n",
    "# Assume you have defined hash functions and baskets\n",
    "item_count = {}\n",
    "hash_table = [0] * 1000  # Example hash table size\n",
    "\n",
    "for message in consumer_pcy:\n",
    "    data = message.value\n",
    "    items = data['categories']  # Assuming categories are items of interest\n",
    "\n",
    "    # First Pass: Count items and fill hash table\n",
    "    for item in items:\n",
    "        if item in item_count:\n",
    "            item_count[item] += 1\n",
    "        else:\n",
    "            item_count[item] = 1\n",
    "\n",
    "        hash_value = hash(frozenset([item])) % 1000\n",
    "        hash_table[hash_value] += 1\n",
    "\n",
    "# Second Pass: Identify frequent items and pairs\n",
    "frequent_items = {item for item, count in item_count.items() if count >= 5}  # Example support threshold\n",
    "\n",
    "consumer_pcy.close()\n"
   ]
  },
  {
   "cell_type": "code",
   "execution_count": null,
   "metadata": {
    "id": "K_A0shjuIcAL"
   },
   "outputs": [],
   "source": [
    "from kafka import KafkaConsumer\n",
    "import json\n",
    "\n",
    "# Initialize a consumer for innovative analysis\n",
    "consumer_innovative = KafkaConsumer(\n",
    "    'amazon_products',\n",
    "    bootstrap_servers=['localhost:9092'],\n",
    "    auto_offset_reset='earliest',\n",
    "    value_deserializer=lambda x: json.loads(x.decode('utf-8'))\n",
    ")\n",
    "\n",
    "# Real-time recommendation logic here\n",
    "for message in consumer_innovative:\n",
    "    product = message.value\n",
    "    # Implement your innovative analysis logic\n",
    "\n",
    "consumer_innovative.close()\n"
   ]
  },
  {
   "cell_type": "code",
   "execution_count": null,
   "metadata": {
    "id": "gcqi3qebIu9R"
   },
   "outputs": [],
   "source": [
    "from kafka import KafkaConsumer\n",
    "from efficient_apriori import apriori\n",
    "from pymongo import MongoClient\n",
    "import json\n",
    "\n",
    "# Initialize MongoDB connection\n",
    "client = MongoClient('localhost', 27017)\n",
    "db = client['amazon_data_analysis']\n",
    "apriori_collection = db['apriori_results']\n",
    "\n",
    "# Initialize a consumer for Apriori\n",
    "consumer_apriori = KafkaConsumer(\n",
    "    'amazon_products',\n",
    "    bootstrap_servers=['localhost:9092'],\n",
    "    auto_offset_reset='earliest',\n",
    "    value_deserializer=lambda x: json.loads(x.decode('utf-8'))\n",
    ")\n",
    "\n",
    "transactions = []\n",
    "\n",
    "# Collect data for a batch\n",
    "for message in consumer_apriori:\n",
    "    data = message.value\n",
    "    transactions.append(data['categories'])  # Assuming categories are items of interest\n",
    "    if len(transactions) >= 100:  # Define a suitable batch size\n",
    "        break\n",
    "\n",
    "# Apply the Apriori algorithm\n",
    "itemsets, rules = apriori(transactions, min_support=0.5, min_confidence=1)\n",
    "\n",
    "# Store results in MongoDB\n",
    "result = {\n",
    "    'itemsets': itemsets,\n",
    "    'rules': rules\n",
    "}\n",
    "apriori_collection.insert_one(result)\n",
    "\n",
    "print(\"Data has been processed and stored in MongoDB.\")\n",
    "consumer_apriori.close()\n"
   ]
  }
 ],
 "metadata": {
  "colab": {
   "provenance": []
  },
  "kernelspec": {
   "display_name": "Python 3 (ipykernel)",
   "language": "python",
   "name": "python3"
  },
  "language_info": {
   "codemirror_mode": {
    "name": "ipython",
    "version": 3
   },
   "file_extension": ".py",
   "mimetype": "text/x-python",
   "name": "python",
   "nbconvert_exporter": "python",
   "pygments_lexer": "ipython3",
   "version": "3.9.13"
  }
 },
 "nbformat": 4,
 "nbformat_minor": 1
}
